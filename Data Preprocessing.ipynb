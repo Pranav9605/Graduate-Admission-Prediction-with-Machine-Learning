{
 "cells": [
  {
   "cell_type": "code",
   "execution_count": 1,
   "id": "39a1f36d",
   "metadata": {},
   "outputs": [
    {
     "name": "stdout",
     "output_type": "stream",
     "text": [
      "Current working directory: C:\\Users\\Pranav padmanabhan\\Documents\\1.Project\n"
     ]
    }
   ],
   "source": [
    "import os\n",
    "\n",
    "# Get the current working directory\n",
    "current_directory = os.getcwd()\n",
    "print(\"Current working directory:\", current_directory)\n"
   ]
  },
  {
   "cell_type": "code",
   "execution_count": 2,
   "id": "cbcdf408",
   "metadata": {},
   "outputs": [
    {
     "name": "stdout",
     "output_type": "stream",
     "text": [
      "                                        Institute  \\\n",
      "0      Indian Institute of Technology Bhubaneswar   \n",
      "1      Indian Institute of Technology Bhubaneswar   \n",
      "2      Indian Institute of Technology Bhubaneswar   \n",
      "3      Indian Institute of Technology Bhubaneswar   \n",
      "4      Indian Institute of Technology Bhubaneswar   \n",
      "...                                           ...   \n",
      "11682                                CU Jharkhand   \n",
      "11683                                CU Jharkhand   \n",
      "11684                                CU Jharkhand   \n",
      "11685                                CU Jharkhand   \n",
      "11686                                CU Jharkhand   \n",
      "\n",
      "                                   Academic Program Name Quota      Seat Type  \\\n",
      "0      Civil Engineering (4 Years, Bachelor of Techno...    AI           OPEN   \n",
      "1      Civil Engineering (4 Years, Bachelor of Techno...    AI           OPEN   \n",
      "2      Civil Engineering (4 Years, Bachelor of Techno...    AI            EWS   \n",
      "3      Civil Engineering (4 Years, Bachelor of Techno...    AI            EWS   \n",
      "4      Civil Engineering (4 Years, Bachelor of Techno...    AI        OBC-NCL   \n",
      "...                                                  ...   ...            ...   \n",
      "11682  Integrated B. Tech.- M. Tech in Metallurgical ...    AI      EWS (PwD)   \n",
      "11683  Integrated B. Tech.- M. Tech in Metallurgical ...    AI        OBC-NCL   \n",
      "11684  Integrated B. Tech.- M. Tech in Metallurgical ...    AI  OBC-NCL (PwD)   \n",
      "11685  Integrated B. Tech.- M. Tech in Metallurgical ...    AI             SC   \n",
      "11686  Integrated B. Tech.- M. Tech in Metallurgical ...    AI             ST   \n",
      "\n",
      "                                      Gender Opening Rank Closing Rank  \n",
      "0                             Gender-Neutral         9106        13018  \n",
      "1      Female-only (including Supernumerary)        18286        20788  \n",
      "2                             Gender-Neutral         1755         1975  \n",
      "3      Female-only (including Supernumerary)         3122         3308  \n",
      "4                             Gender-Neutral         3573         4796  \n",
      "...                                      ...          ...          ...  \n",
      "11682                         Gender-Neutral          433          433  \n",
      "11683                         Gender-Neutral        26558        28374  \n",
      "11684                         Gender-Neutral         1461         1461  \n",
      "11685                         Gender-Neutral        12726        13949  \n",
      "11686                         Gender-Neutral         6278         6694  \n",
      "\n",
      "[11687 rows x 7 columns]\n"
     ]
    }
   ],
   "source": [
    "import pandas as pd\n",
    "\n",
    "\n",
    "Sample = pd.read_csv('C:\\\\Users\\\\Pranav padmanabhan\\\\Documents\\\\1.Project\\\\Web-Scrapping-Selenium\\\\web scrapped Dataset\\\\2023 round1.txt', delimiter='\\t')\n",
    "\n",
    "print(Sample)\n"
   ]
  },
  {
   "cell_type": "code",
   "execution_count": 3,
   "id": "6070d53f",
   "metadata": {},
   "outputs": [
    {
     "data": {
      "text/html": [
       "<div>\n",
       "<style scoped>\n",
       "    .dataframe tbody tr th:only-of-type {\n",
       "        vertical-align: middle;\n",
       "    }\n",
       "\n",
       "    .dataframe tbody tr th {\n",
       "        vertical-align: top;\n",
       "    }\n",
       "\n",
       "    .dataframe thead th {\n",
       "        text-align: right;\n",
       "    }\n",
       "</style>\n",
       "<table border=\"1\" class=\"dataframe\">\n",
       "  <thead>\n",
       "    <tr style=\"text-align: right;\">\n",
       "      <th></th>\n",
       "      <th>Institute</th>\n",
       "      <th>Academic Program Name</th>\n",
       "      <th>Quota</th>\n",
       "      <th>Seat Type</th>\n",
       "      <th>Gender</th>\n",
       "      <th>Opening Rank</th>\n",
       "      <th>Closing Rank</th>\n",
       "    </tr>\n",
       "  </thead>\n",
       "  <tbody>\n",
       "    <tr>\n",
       "      <th>0</th>\n",
       "      <td>Indian Institute of Technology Bhubaneswar</td>\n",
       "      <td>Civil Engineering (4 Years, Bachelor of Techno...</td>\n",
       "      <td>AI</td>\n",
       "      <td>OPEN</td>\n",
       "      <td>Gender-Neutral</td>\n",
       "      <td>9106</td>\n",
       "      <td>13018</td>\n",
       "    </tr>\n",
       "    <tr>\n",
       "      <th>1</th>\n",
       "      <td>Indian Institute of Technology Bhubaneswar</td>\n",
       "      <td>Civil Engineering (4 Years, Bachelor of Techno...</td>\n",
       "      <td>AI</td>\n",
       "      <td>OPEN</td>\n",
       "      <td>Female-only (including Supernumerary)</td>\n",
       "      <td>18286</td>\n",
       "      <td>20788</td>\n",
       "    </tr>\n",
       "    <tr>\n",
       "      <th>2</th>\n",
       "      <td>Indian Institute of Technology Bhubaneswar</td>\n",
       "      <td>Civil Engineering (4 Years, Bachelor of Techno...</td>\n",
       "      <td>AI</td>\n",
       "      <td>EWS</td>\n",
       "      <td>Gender-Neutral</td>\n",
       "      <td>1755</td>\n",
       "      <td>1975</td>\n",
       "    </tr>\n",
       "    <tr>\n",
       "      <th>3</th>\n",
       "      <td>Indian Institute of Technology Bhubaneswar</td>\n",
       "      <td>Civil Engineering (4 Years, Bachelor of Techno...</td>\n",
       "      <td>AI</td>\n",
       "      <td>EWS</td>\n",
       "      <td>Female-only (including Supernumerary)</td>\n",
       "      <td>3122</td>\n",
       "      <td>3308</td>\n",
       "    </tr>\n",
       "    <tr>\n",
       "      <th>4</th>\n",
       "      <td>Indian Institute of Technology Bhubaneswar</td>\n",
       "      <td>Civil Engineering (4 Years, Bachelor of Techno...</td>\n",
       "      <td>AI</td>\n",
       "      <td>OBC-NCL</td>\n",
       "      <td>Gender-Neutral</td>\n",
       "      <td>3573</td>\n",
       "      <td>4796</td>\n",
       "    </tr>\n",
       "  </tbody>\n",
       "</table>\n",
       "</div>"
      ],
      "text/plain": [
       "                                    Institute  \\\n",
       "0  Indian Institute of Technology Bhubaneswar   \n",
       "1  Indian Institute of Technology Bhubaneswar   \n",
       "2  Indian Institute of Technology Bhubaneswar   \n",
       "3  Indian Institute of Technology Bhubaneswar   \n",
       "4  Indian Institute of Technology Bhubaneswar   \n",
       "\n",
       "                               Academic Program Name Quota Seat Type  \\\n",
       "0  Civil Engineering (4 Years, Bachelor of Techno...    AI      OPEN   \n",
       "1  Civil Engineering (4 Years, Bachelor of Techno...    AI      OPEN   \n",
       "2  Civil Engineering (4 Years, Bachelor of Techno...    AI       EWS   \n",
       "3  Civil Engineering (4 Years, Bachelor of Techno...    AI       EWS   \n",
       "4  Civil Engineering (4 Years, Bachelor of Techno...    AI   OBC-NCL   \n",
       "\n",
       "                                  Gender Opening Rank Closing Rank  \n",
       "0                         Gender-Neutral         9106        13018  \n",
       "1  Female-only (including Supernumerary)        18286        20788  \n",
       "2                         Gender-Neutral         1755         1975  \n",
       "3  Female-only (including Supernumerary)         3122         3308  \n",
       "4                         Gender-Neutral         3573         4796  "
      ]
     },
     "execution_count": 3,
     "metadata": {},
     "output_type": "execute_result"
    }
   ],
   "source": [
    "Sample.head()"
   ]
  },
  {
   "cell_type": "code",
   "execution_count": 4,
   "id": "6c9fa483",
   "metadata": {},
   "outputs": [],
   "source": [
    "import pandas as pd\n",
    "import glob\n",
    "\n",
    "path = 'C:\\\\Users\\\\Pranav padmanabhan\\\\Documents\\\\1.Project\\\\Web-Scrapping-Selenium\\\\web scrapped Dataset\\\\All year\\\\Yearby\\\\*.csv'\n",
    "all_files = glob.glob(path)\n",
    "dfs = [pd.read_csv(filename) for filename in all_files]\n",
    "combined_df = pd.concat(dfs, ignore_index=True)\n",
    "combined_df.to_csv('C:\\\\Users\\\\Pranav padmanabhan\\\\Documents\\\\1.Project\\\\Web-Scrapping-Selenium\\\\web scrapped Dataset\\\\All year\\\\combined.csv', index=False)\n"
   ]
  },
  {
   "cell_type": "code",
   "execution_count": 5,
   "id": "94057ebb",
   "metadata": {},
   "outputs": [],
   "source": [
    "df=pd.read_csv('C:\\\\Users\\\\Pranav padmanabhan\\\\Documents\\\\1.Project\\\\Web-Scrapping-Selenium\\\\web scrapped Dataset\\\\All year\\\\combined.csv',low_memory=False)"
   ]
  },
  {
   "cell_type": "code",
   "execution_count": 6,
   "id": "39338d3a",
   "metadata": {
    "scrolled": true
   },
   "outputs": [
    {
     "data": {
      "text/plain": [
       "Institute                0\n",
       "Academic Program Name    1\n",
       "Quota                    1\n",
       "Seat Type                2\n",
       "Gender                   3\n",
       "Opening Rank             4\n",
       "Closing Rank             4\n",
       "Year                     0\n",
       "Round                    0\n",
       "dtype: int64"
      ]
     },
     "execution_count": 6,
     "metadata": {},
     "output_type": "execute_result"
    }
   ],
   "source": [
    "df.isnull().sum()"
   ]
  },
  {
   "cell_type": "code",
   "execution_count": 7,
   "id": "a4c4dbd3",
   "metadata": {},
   "outputs": [
    {
     "data": {
      "text/html": [
       "<div>\n",
       "<style scoped>\n",
       "    .dataframe tbody tr th:only-of-type {\n",
       "        vertical-align: middle;\n",
       "    }\n",
       "\n",
       "    .dataframe tbody tr th {\n",
       "        vertical-align: top;\n",
       "    }\n",
       "\n",
       "    .dataframe thead th {\n",
       "        text-align: right;\n",
       "    }\n",
       "</style>\n",
       "<table border=\"1\" class=\"dataframe\">\n",
       "  <thead>\n",
       "    <tr style=\"text-align: right;\">\n",
       "      <th></th>\n",
       "      <th>Institute</th>\n",
       "      <th>Academic Program Name</th>\n",
       "      <th>Quota</th>\n",
       "      <th>Seat Type</th>\n",
       "      <th>Gender</th>\n",
       "      <th>Opening Rank</th>\n",
       "      <th>Closing Rank</th>\n",
       "      <th>Year</th>\n",
       "      <th>Round</th>\n",
       "    </tr>\n",
       "  </thead>\n",
       "  <tbody>\n",
       "    <tr>\n",
       "      <th>0</th>\n",
       "      <td>Indian Institute of Technology Bhubaneswar</td>\n",
       "      <td>Civil Engineering (4 Years, Bachelor of Techno...</td>\n",
       "      <td>AI</td>\n",
       "      <td>OPEN</td>\n",
       "      <td>Gender-Neutral</td>\n",
       "      <td>5057</td>\n",
       "      <td>6780.0</td>\n",
       "      <td>2018</td>\n",
       "      <td>1</td>\n",
       "    </tr>\n",
       "    <tr>\n",
       "      <th>1</th>\n",
       "      <td>Indian Institute of Technology Bhubaneswar</td>\n",
       "      <td>Civil Engineering (4 Years, Bachelor of Techno...</td>\n",
       "      <td>AI</td>\n",
       "      <td>OPEN</td>\n",
       "      <td>Female-only (including Supernumerary)</td>\n",
       "      <td>10078</td>\n",
       "      <td>10789.0</td>\n",
       "      <td>2018</td>\n",
       "      <td>1</td>\n",
       "    </tr>\n",
       "    <tr>\n",
       "      <th>2</th>\n",
       "      <td>Indian Institute of Technology Bhubaneswar</td>\n",
       "      <td>Civil Engineering (4 Years, Bachelor of Techno...</td>\n",
       "      <td>AI</td>\n",
       "      <td>OBC-NCL</td>\n",
       "      <td>Gender-Neutral</td>\n",
       "      <td>1649</td>\n",
       "      <td>2592.0</td>\n",
       "      <td>2018</td>\n",
       "      <td>1</td>\n",
       "    </tr>\n",
       "    <tr>\n",
       "      <th>3</th>\n",
       "      <td>Indian Institute of Technology Bhubaneswar</td>\n",
       "      <td>Civil Engineering (4 Years, Bachelor of Techno...</td>\n",
       "      <td>AI</td>\n",
       "      <td>OBC-NCL</td>\n",
       "      <td>Female-only (including Supernumerary)</td>\n",
       "      <td>4343</td>\n",
       "      <td>4522.0</td>\n",
       "      <td>2018</td>\n",
       "      <td>1</td>\n",
       "    </tr>\n",
       "    <tr>\n",
       "      <th>4</th>\n",
       "      <td>Indian Institute of Technology Bhubaneswar</td>\n",
       "      <td>Civil Engineering (4 Years, Bachelor of Techno...</td>\n",
       "      <td>AI</td>\n",
       "      <td>SC</td>\n",
       "      <td>Gender-Neutral</td>\n",
       "      <td>1054</td>\n",
       "      <td>1233.0</td>\n",
       "      <td>2018</td>\n",
       "      <td>1</td>\n",
       "    </tr>\n",
       "    <tr>\n",
       "      <th>...</th>\n",
       "      <td>...</td>\n",
       "      <td>...</td>\n",
       "      <td>...</td>\n",
       "      <td>...</td>\n",
       "      <td>...</td>\n",
       "      <td>...</td>\n",
       "      <td>...</td>\n",
       "      <td>...</td>\n",
       "      <td>...</td>\n",
       "    </tr>\n",
       "    <tr>\n",
       "      <th>248505</th>\n",
       "      <td>Central University of Jammu</td>\n",
       "      <td>Electronics and Communication Engineering (Avi...</td>\n",
       "      <td>AI</td>\n",
       "      <td>OPEN</td>\n",
       "      <td>Gender-Neutral</td>\n",
       "      <td>56910</td>\n",
       "      <td>76463</td>\n",
       "      <td>2022</td>\n",
       "      <td>6</td>\n",
       "    </tr>\n",
       "    <tr>\n",
       "      <th>248506</th>\n",
       "      <td>Central University of Jammu</td>\n",
       "      <td>Electronics and Communication Engineering (Avi...</td>\n",
       "      <td>AI</td>\n",
       "      <td>EWS</td>\n",
       "      <td>Gender-Neutral</td>\n",
       "      <td>11263</td>\n",
       "      <td>11413</td>\n",
       "      <td>2022</td>\n",
       "      <td>6</td>\n",
       "    </tr>\n",
       "    <tr>\n",
       "      <th>248507</th>\n",
       "      <td>Central University of Jammu</td>\n",
       "      <td>Electronics and Communication Engineering (Avi...</td>\n",
       "      <td>AI</td>\n",
       "      <td>OBC-NCL</td>\n",
       "      <td>Gender-Neutral</td>\n",
       "      <td>22569</td>\n",
       "      <td>24055</td>\n",
       "      <td>2022</td>\n",
       "      <td>6</td>\n",
       "    </tr>\n",
       "    <tr>\n",
       "      <th>248508</th>\n",
       "      <td>Central University of Jammu</td>\n",
       "      <td>Electronics and Communication Engineering (Avi...</td>\n",
       "      <td>AI</td>\n",
       "      <td>SC</td>\n",
       "      <td>Gender-Neutral</td>\n",
       "      <td>12164</td>\n",
       "      <td>12435</td>\n",
       "      <td>2022</td>\n",
       "      <td>6</td>\n",
       "    </tr>\n",
       "    <tr>\n",
       "      <th>248509</th>\n",
       "      <td>Central University of Jammu</td>\n",
       "      <td>Electronics and Communication Engineering (Avi...</td>\n",
       "      <td>AI</td>\n",
       "      <td>ST</td>\n",
       "      <td>Gender-Neutral</td>\n",
       "      <td>4925</td>\n",
       "      <td>5409</td>\n",
       "      <td>2022</td>\n",
       "      <td>6</td>\n",
       "    </tr>\n",
       "  </tbody>\n",
       "</table>\n",
       "<p>248510 rows × 9 columns</p>\n",
       "</div>"
      ],
      "text/plain": [
       "                                         Institute  \\\n",
       "0       Indian Institute of Technology Bhubaneswar   \n",
       "1       Indian Institute of Technology Bhubaneswar   \n",
       "2       Indian Institute of Technology Bhubaneswar   \n",
       "3       Indian Institute of Technology Bhubaneswar   \n",
       "4       Indian Institute of Technology Bhubaneswar   \n",
       "...                                            ...   \n",
       "248505                 Central University of Jammu   \n",
       "248506                 Central University of Jammu   \n",
       "248507                 Central University of Jammu   \n",
       "248508                 Central University of Jammu   \n",
       "248509                 Central University of Jammu   \n",
       "\n",
       "                                    Academic Program Name Quota Seat Type  \\\n",
       "0       Civil Engineering (4 Years, Bachelor of Techno...    AI      OPEN   \n",
       "1       Civil Engineering (4 Years, Bachelor of Techno...    AI      OPEN   \n",
       "2       Civil Engineering (4 Years, Bachelor of Techno...    AI   OBC-NCL   \n",
       "3       Civil Engineering (4 Years, Bachelor of Techno...    AI   OBC-NCL   \n",
       "4       Civil Engineering (4 Years, Bachelor of Techno...    AI        SC   \n",
       "...                                                   ...   ...       ...   \n",
       "248505  Electronics and Communication Engineering (Avi...    AI      OPEN   \n",
       "248506  Electronics and Communication Engineering (Avi...    AI       EWS   \n",
       "248507  Electronics and Communication Engineering (Avi...    AI   OBC-NCL   \n",
       "248508  Electronics and Communication Engineering (Avi...    AI        SC   \n",
       "248509  Electronics and Communication Engineering (Avi...    AI        ST   \n",
       "\n",
       "                                       Gender Opening Rank Closing Rank  Year  \\\n",
       "0                              Gender-Neutral         5057       6780.0  2018   \n",
       "1       Female-only (including Supernumerary)        10078      10789.0  2018   \n",
       "2                              Gender-Neutral         1649       2592.0  2018   \n",
       "3       Female-only (including Supernumerary)         4343       4522.0  2018   \n",
       "4                              Gender-Neutral         1054       1233.0  2018   \n",
       "...                                       ...          ...          ...   ...   \n",
       "248505                         Gender-Neutral        56910        76463  2022   \n",
       "248506                         Gender-Neutral        11263        11413  2022   \n",
       "248507                         Gender-Neutral        22569        24055  2022   \n",
       "248508                         Gender-Neutral        12164        12435  2022   \n",
       "248509                         Gender-Neutral         4925         5409  2022   \n",
       "\n",
       "        Round  \n",
       "0           1  \n",
       "1           1  \n",
       "2           1  \n",
       "3           1  \n",
       "4           1  \n",
       "...       ...  \n",
       "248505      6  \n",
       "248506      6  \n",
       "248507      6  \n",
       "248508      6  \n",
       "248509      6  \n",
       "\n",
       "[248510 rows x 9 columns]"
      ]
     },
     "execution_count": 7,
     "metadata": {},
     "output_type": "execute_result"
    }
   ],
   "source": [
    "df"
   ]
  },
  {
   "cell_type": "code",
   "execution_count": 8,
   "id": "d00f1f9e",
   "metadata": {},
   "outputs": [
    {
     "name": "stdout",
     "output_type": "stream",
     "text": [
      "<class 'pandas.core.frame.DataFrame'>\n",
      "RangeIndex: 248510 entries, 0 to 248509\n",
      "Data columns (total 9 columns):\n",
      " #   Column                 Non-Null Count   Dtype \n",
      "---  ------                 --------------   ----- \n",
      " 0   Institute              248510 non-null  object\n",
      " 1   Academic Program Name  248509 non-null  object\n",
      " 2   Quota                  248509 non-null  object\n",
      " 3   Seat Type              248508 non-null  object\n",
      " 4   Gender                 248507 non-null  object\n",
      " 5   Opening Rank           248506 non-null  object\n",
      " 6   Closing Rank           248506 non-null  object\n",
      " 7   Year                   248510 non-null  int64 \n",
      " 8   Round                  248510 non-null  int64 \n",
      "dtypes: int64(2), object(7)\n",
      "memory usage: 17.1+ MB\n"
     ]
    }
   ],
   "source": [
    "df.info()"
   ]
  },
  {
   "cell_type": "code",
   "execution_count": 9,
   "id": "8479d5ac",
   "metadata": {},
   "outputs": [
    {
     "data": {
      "text/plain": [
       "Institute                0\n",
       "Academic Program Name    1\n",
       "Quota                    1\n",
       "Seat Type                2\n",
       "Gender                   3\n",
       "Opening Rank             4\n",
       "Closing Rank             4\n",
       "Year                     0\n",
       "Round                    0\n",
       "dtype: int64"
      ]
     },
     "execution_count": 9,
     "metadata": {},
     "output_type": "execute_result"
    }
   ],
   "source": [
    "df.isnull().sum()"
   ]
  },
  {
   "cell_type": "code",
   "execution_count": null,
   "id": "bb1596c8",
   "metadata": {},
   "outputs": [],
   "source": []
  },
  {
   "cell_type": "code",
   "execution_count": 10,
   "id": "d2cafa23",
   "metadata": {},
   "outputs": [
    {
     "data": {
      "text/plain": [
       "Gender\n",
       "Gender-Neutral                           155562\n",
       "Female-only (including Supernumerary)     92944\n",
       "F                                             1\n",
       "Name: count, dtype: int64"
      ]
     },
     "execution_count": 10,
     "metadata": {},
     "output_type": "execute_result"
    }
   ],
   "source": [
    "df['Gender'].value_counts()"
   ]
  },
  {
   "cell_type": "code",
   "execution_count": 11,
   "id": "3e82a0a7",
   "metadata": {},
   "outputs": [],
   "source": [
    "df=df.dropna()"
   ]
  },
  {
   "cell_type": "code",
   "execution_count": 12,
   "id": "033b945a",
   "metadata": {},
   "outputs": [
    {
     "data": {
      "text/plain": [
       "Institute                0\n",
       "Academic Program Name    0\n",
       "Quota                    0\n",
       "Seat Type                0\n",
       "Gender                   0\n",
       "Opening Rank             0\n",
       "Closing Rank             0\n",
       "Year                     0\n",
       "Round                    0\n",
       "dtype: int64"
      ]
     },
     "execution_count": 12,
     "metadata": {},
     "output_type": "execute_result"
    }
   ],
   "source": [
    "df.isnull().sum()"
   ]
  },
  {
   "cell_type": "code",
   "execution_count": 13,
   "id": "61e85de2",
   "metadata": {},
   "outputs": [
    {
     "data": {
      "text/plain": [
       "4"
      ]
     },
     "execution_count": 13,
     "metadata": {},
     "output_type": "execute_result"
    }
   ],
   "source": [
    "df.duplicated().sum()"
   ]
  },
  {
   "cell_type": "code",
   "execution_count": 14,
   "id": "1ef3ecea",
   "metadata": {},
   "outputs": [],
   "source": [
    "# There are non numeric values in the column,normal conversion wont work\n",
    "# df['Opening Rank'] = df['Opening Rank'].astype(int)\n"
   ]
  },
  {
   "cell_type": "code",
   "execution_count": 15,
   "id": "19a7a603",
   "metadata": {},
   "outputs": [
    {
     "name": "stdout",
     "output_type": "stream",
     "text": [
      "['332P', '744P', '667P', '508P', '1392P', '565P', '930P', '161P', '54P', '345P', '1355P', '640P', '428P', '709P', '74P', '114P', '217P', '322P', '399P', '472P', '206P', '923P', '267P', '505P', '872P', '165P', '1290.1', '400P', '950P', '769P', '1858.1', '207P', '2314P', '80P', '1909P', '424P', '253P', '756P', '48P', '741P', '1152P', '184P', '1124P', '162P', '1126P', '1860P', '1366P', '2022P', '733P', '1241P', '377P', '943P', '108P', '1045P', '587P', '630P', '590P', '21P', '736P', '1085P', '894P', '236P', '183P', '283P', '2417P', '535P', '467P', '786P', '143P', '35P', '876P', '78P', '1568P', '939P', '358P', '737P', '172P', '716P', '193P', '309P', '255P', '822P', '93P', '1068P', '675P', '73P', '349P', '1137P', '663.1', '738P', '788P', '633P', '864P', '777P', '875P', '1055P', '801P', '1186P', '231P', '135P', '528P', '976P', '574P', '877P', '482P', '1170P', '649P', '531P', '1183P', '224P', '1226P', '1396P', '97P', '391P', '740P', '785P', '1025P', '1021P', '686P', '370P', '719P', '2339P', '89P', '44P', '1081P', '1413P', '300P', '299P', '885P', '586P', '798P', '266P', '569P', '1P', '222P', '1705P', '1244P', '539.1', '260P', '996P', '1749P', '804P', '42P', '1135P', '36P', '893P', '286P', '2485P', '41P', '958P', '1075P', '1686P', '1123P', '783P', '344P', '797P', '246P', '567P', '1116P', '611P', '422P', '395P', '618P', '1345P', '1040P', '1242P', '837P', '460P', '815P', '65P', '447P', '607P', '825P', '887P', '17P', '1246P', '149P', '12P', '610P', '75P', '109.1', '313P', '881P', '1398P', '43P', '312P', '916P', '1327P', '2331.1', '304P', '577P', '513.1', '2108P', '714P', '210P', '529P', '1939P', '1032P', '643P', '698P', '6P', '1301P', '303P', '616P', '978P', '415P', '163P', '968P', '130P', '265P', '244P', '179P', '1288P', '782P', '603P', '150P', '642P', '249P', '466P', '653P', '290P', '507P', '2160P', '20P', '2P', '2229P', '285P', '63P', '275P', '1279P', '1101P', '847P', '1259P', '127P', '868P', '919P', '1389P', '56P', '409P', '1206P', '1038P', '112P', '594P', '388P', '2167P', '924P', '91P', '821P', '1014P', '50P', '755P', '1253P', '1922P', '4P', '699P', '138P', '62P', '464P', '584.1', '1201P', '1102P', '111P', '72P', '187P', '839P', '175P', '242P', '257P', '1153P', '380P', '1140P', '1063P', '1990P', '22P', '1269P', '1212P', '212P', '688P', '722P', '892P', '2020P', '888P', '169P', '579P', '1203P', '128P', '492P', '979P', '148P', '223P', '2152P', '308P', '1174P', '382P', '2444P', '1512P', '1252P', '720P', '173P', '417P', '338P', '767P', '695P', '84P', '454P', '413P', '444P', '1401P', '935P', '23P', '972P', '158P', '927P', '471P', '386P', '853P', '208P', '1540P', '541P', '1173P', '221P', '799P', '841P', '734P', '543P', '180P', '1360P', '575P', '251P', '256P', '341P', '316P', '10P', '258P', '14P', '731P', '1446P', '525P', '1600P', '269P', '681P', '3P', '152P', '31P', '654P', '385P', '729P', '523P', '1076P', '167P', '1861P', '915P', '691P', '879P', '1542P', '2279P', '486P', '708P', '8P', '418P', '76P', '225P', '911P', '498P', '105P', '763P', '405P', '64P', '462P', '1229P', '90P', '378P', '503P', '1072P', '307P', '609P', '123P', '356P', '1306P', '1000P', '1831.1', '254P', '450P', '1177P', '937P', '270P', '1064P', '1387P', '718P', '49P', '493P', '301P', '381P', '805P', '613P', '215P', '171P', '645P', '9P', '956P', '116P', '1217P', '204P', '156P', '1406P', '147P', '1060P', '252P', '647P', '576P', '145P', '25P', '342P', '129P', '497P', '829P', '390P', '13P', '139P', '248P', '102P', '52P', '814P', '174P', '759P', '693P', '337P', '406P', '277P', '362P', '866P', '568P', '352P', '743P', '682P', '1143P', '557P', '190P', '509P', '1232P', '166P', '963P', '136P', '319P', '1057P', '520P', '292P', '11P', '836P', '442P', '40P', '655P', '107P', '371P', '506P', '532P', '516P', '133P', '2115P', '1185P', '929P', '1260P', '45P', '58P', '51P', '615P', '859P', '723P', '27P', '99P', '534P', '713P', '1061P', '38P', '753P', '195P', '445P', '2301P', '715P', '664P', '1393P', '324P', '1088P', '1221.5', '794P', '985P', '235P', '962P', '326P', '671P', '1033P', '1077P', '28P', '420P', '527P', '658P', '317P', '19P', '7P', '1013P', '776P', '684P', '748P', '5P', '77P', '778P', '239P', '760P', '119P', '113P', '761P', '200P', '591P', '489P', '663P', '614P', '325P', '1148P', '103P', '563P', '670P', '26P', '125P', '29P', '650P', '259P', '95P', '1094P', '268P', '153P', '703P', '1089P', '37P', '452P', '1240P', '199P', '157P', '828P', '67P', '1207P', '117P', '188P', '350P', '228P', '94P', '39P', '1548P', '824P', '330P', '395.1', '1111P', '549P', '1255P', '1271P', '1261P', '1362P', '331P', '735P', '659P', '440P', '416P', '32P', '229P', '1225P', '1423P', '34P', '159P', '451P', '245P', '727P', '446P', '375P', '583P', '808P', '24P', '928P', '940P', '82P', '178P', '57P', '47P', '176P', '487P', '205P', '280.1', '1908P', '70P', '578P', '856P', '186P', '838P', '196P', '197P', '470P', '818P', '189P', '1397P', '944P', '870P', '121P', '262P', '1015P', '1313P', '1041P', '85P', '765P', '66P', '474P', '701P', '848P', '220P', '934P', '55P', '60P', '600P', '560P', '899P', '16P', '182P', '1388P', '687P', '86P', '71P', '241P', '69P', '219P', '904P', '18P', '793P', '59P', '83P', '746P', '599P', '1133P', '98P', '1039P', '61P', '131P', '267.1', '558P', '333P', '501P', '867P', '144P', '580P', '122P', '276P', '453P', '401P', '118P', '953P', '53P', '1079P', '852P', '690P', '510P', '840P', '865P', '845P', '365P', '1326P', '2201P', '379P', '126P', '1065P', '194P', '617P', '1539P', '192P', '238P', '124P', '336P', '830P', '367P', '100P', '154P', '954P', '791P', '697P', '665P', '30P', '515P', '79P', '1679P', '203P', '1251P', '87P', '170P', '357P', '226P', '764P', '572P', '750P', '227P', '164P', '1757P', '819P', '209P', '141P', '849P', '678P', '969P', '305P', '1258P', '660P', '137P', '800P', '1247P', '110P', '1700P', '1160P', '644P', '970P', '15P', '1501P', '739P', '491P', '1172P', '185P', '1097P', '237P', '1343P', '637P', '46P', '68P', '468P', '721P', '555P', '411P', '323P', '657P', '573P', '683P', '366P', '387P']\n"
     ]
    }
   ],
   "source": [
    "non_integers=list(set(df['Opening Rank'][~df['Opening Rank'].apply(lambda x:str(x).isdigit())]))\n",
    "print(non_integers)"
   ]
  },
  {
   "cell_type": "code",
   "execution_count": 16,
   "id": "cf013e96",
   "metadata": {},
   "outputs": [],
   "source": [
    "import re\n",
    "def to_numeric(x):\n",
    "    x=str(x)\n",
    "    x=x.replace(\",\",\"\")\n",
    "    x=re.sub(\"[a-zA-Z]\",\"\",x)\n",
    "    return float(x) if '.' in x else int(x)\n"
   ]
  },
  {
   "cell_type": "code",
   "execution_count": 17,
   "id": "44062d29",
   "metadata": {},
   "outputs": [],
   "source": [
    "#Here we converted the non_interger to int and set the type as int\n",
    "\n",
    "df.loc[:, 'Opening Rank'] = df['Opening Rank'].apply(to_numeric)\n",
    "df.loc[:, 'Closing Rank'] = df['Closing Rank'].apply(to_numeric)\n"
   ]
  },
  {
   "cell_type": "code",
   "execution_count": 18,
   "id": "84902d80-5f66-42b2-b17b-e3b42041aa57",
   "metadata": {},
   "outputs": [],
   "source": [
    "# pd.set_option('future.no_silent_downcasting', True)\n",
    "# df.loc['Closing Rank'] = df['Closing Rank'].fillna(0).infer_objects(copy=False).astype(int)\n",
    "# df.loc['Opening Rank'] = df['Opening Rank'].fillna(0).infer_objects(copy=False).astype(int)"
   ]
  },
  {
   "cell_type": "code",
   "execution_count": 19,
   "id": "4765a3e4-7f16-4961-b3e9-7bf34797a8d7",
   "metadata": {},
   "outputs": [
    {
     "name": "stderr",
     "output_type": "stream",
     "text": [
      "C:\\Users\\Pranav padmanabhan\\AppData\\Local\\Temp\\ipykernel_24196\\3695896931.py:2: FutureWarning: Downcasting object dtype arrays on .fillna, .ffill, .bfill is deprecated and will change in a future version. Call result.infer_objects(copy=False) instead. To opt-in to the future behavior, set `pd.set_option('future.no_silent_downcasting', True)`\n",
      "  df_copy['Closing Rank'] = df_copy['Closing Rank'].fillna(0).infer_objects(copy=False).astype(int)\n"
     ]
    }
   ],
   "source": [
    "df_copy = df.copy()\n",
    "df_copy['Closing Rank'] = df_copy['Closing Rank'].fillna(0).infer_objects(copy=False).astype(int)\n",
    "pd.set_option('future.no_silent_downcasting', True)"
   ]
  },
  {
   "cell_type": "code",
   "execution_count": 20,
   "id": "5e391de3-cb75-49fd-9703-18e66ef9b6c2",
   "metadata": {},
   "outputs": [],
   "source": [
    "df_copy['Opening Rank'] = df_copy['Opening Rank'].fillna(0).infer_objects(copy=False).astype(int)\n",
    "pd.set_option('future.no_silent_downcasting', True)"
   ]
  },
  {
   "cell_type": "code",
   "execution_count": 21,
   "id": "277a8b96-8d66-41e5-9734-620179b1be8d",
   "metadata": {},
   "outputs": [
    {
     "name": "stdout",
     "output_type": "stream",
     "text": [
      "<class 'pandas.core.frame.DataFrame'>\n",
      "Index: 248506 entries, 0 to 248509\n",
      "Data columns (total 9 columns):\n",
      " #   Column                 Non-Null Count   Dtype \n",
      "---  ------                 --------------   ----- \n",
      " 0   Institute              248506 non-null  object\n",
      " 1   Academic Program Name  248506 non-null  object\n",
      " 2   Quota                  248506 non-null  object\n",
      " 3   Seat Type              248506 non-null  object\n",
      " 4   Gender                 248506 non-null  object\n",
      " 5   Opening Rank           248506 non-null  int32 \n",
      " 6   Closing Rank           248506 non-null  int32 \n",
      " 7   Year                   248506 non-null  int64 \n",
      " 8   Round                  248506 non-null  int64 \n",
      "dtypes: int32(2), int64(2), object(5)\n",
      "memory usage: 17.1+ MB\n"
     ]
    }
   ],
   "source": [
    "df_copy.info()"
   ]
  },
  {
   "cell_type": "code",
   "execution_count": 22,
   "id": "b168d66a-e7f5-4f52-ac10-24c318071d29",
   "metadata": {},
   "outputs": [
    {
     "data": {
      "text/html": [
       "<div>\n",
       "<style scoped>\n",
       "    .dataframe tbody tr th:only-of-type {\n",
       "        vertical-align: middle;\n",
       "    }\n",
       "\n",
       "    .dataframe tbody tr th {\n",
       "        vertical-align: top;\n",
       "    }\n",
       "\n",
       "    .dataframe thead th {\n",
       "        text-align: right;\n",
       "    }\n",
       "</style>\n",
       "<table border=\"1\" class=\"dataframe\">\n",
       "  <thead>\n",
       "    <tr style=\"text-align: right;\">\n",
       "      <th></th>\n",
       "      <th>Institute</th>\n",
       "      <th>Academic Program Name</th>\n",
       "      <th>Quota</th>\n",
       "      <th>Seat Type</th>\n",
       "      <th>Gender</th>\n",
       "      <th>Opening Rank</th>\n",
       "      <th>Closing Rank</th>\n",
       "      <th>Year</th>\n",
       "      <th>Round</th>\n",
       "    </tr>\n",
       "  </thead>\n",
       "  <tbody>\n",
       "    <tr>\n",
       "      <th>0</th>\n",
       "      <td>Indian Institute of Technology Bhubaneswar</td>\n",
       "      <td>Civil Engineering (4 Years, Bachelor of Techno...</td>\n",
       "      <td>AI</td>\n",
       "      <td>OPEN</td>\n",
       "      <td>Gender-Neutral</td>\n",
       "      <td>5057</td>\n",
       "      <td>6780</td>\n",
       "      <td>2018</td>\n",
       "      <td>1</td>\n",
       "    </tr>\n",
       "    <tr>\n",
       "      <th>1</th>\n",
       "      <td>Indian Institute of Technology Bhubaneswar</td>\n",
       "      <td>Civil Engineering (4 Years, Bachelor of Techno...</td>\n",
       "      <td>AI</td>\n",
       "      <td>OPEN</td>\n",
       "      <td>Female-only (including Supernumerary)</td>\n",
       "      <td>10078</td>\n",
       "      <td>10789</td>\n",
       "      <td>2018</td>\n",
       "      <td>1</td>\n",
       "    </tr>\n",
       "    <tr>\n",
       "      <th>2</th>\n",
       "      <td>Indian Institute of Technology Bhubaneswar</td>\n",
       "      <td>Civil Engineering (4 Years, Bachelor of Techno...</td>\n",
       "      <td>AI</td>\n",
       "      <td>OBC-NCL</td>\n",
       "      <td>Gender-Neutral</td>\n",
       "      <td>1649</td>\n",
       "      <td>2592</td>\n",
       "      <td>2018</td>\n",
       "      <td>1</td>\n",
       "    </tr>\n",
       "    <tr>\n",
       "      <th>3</th>\n",
       "      <td>Indian Institute of Technology Bhubaneswar</td>\n",
       "      <td>Civil Engineering (4 Years, Bachelor of Techno...</td>\n",
       "      <td>AI</td>\n",
       "      <td>OBC-NCL</td>\n",
       "      <td>Female-only (including Supernumerary)</td>\n",
       "      <td>4343</td>\n",
       "      <td>4522</td>\n",
       "      <td>2018</td>\n",
       "      <td>1</td>\n",
       "    </tr>\n",
       "    <tr>\n",
       "      <th>4</th>\n",
       "      <td>Indian Institute of Technology Bhubaneswar</td>\n",
       "      <td>Civil Engineering (4 Years, Bachelor of Techno...</td>\n",
       "      <td>AI</td>\n",
       "      <td>SC</td>\n",
       "      <td>Gender-Neutral</td>\n",
       "      <td>1054</td>\n",
       "      <td>1233</td>\n",
       "      <td>2018</td>\n",
       "      <td>1</td>\n",
       "    </tr>\n",
       "  </tbody>\n",
       "</table>\n",
       "</div>"
      ],
      "text/plain": [
       "                                    Institute  \\\n",
       "0  Indian Institute of Technology Bhubaneswar   \n",
       "1  Indian Institute of Technology Bhubaneswar   \n",
       "2  Indian Institute of Technology Bhubaneswar   \n",
       "3  Indian Institute of Technology Bhubaneswar   \n",
       "4  Indian Institute of Technology Bhubaneswar   \n",
       "\n",
       "                               Academic Program Name Quota Seat Type  \\\n",
       "0  Civil Engineering (4 Years, Bachelor of Techno...    AI      OPEN   \n",
       "1  Civil Engineering (4 Years, Bachelor of Techno...    AI      OPEN   \n",
       "2  Civil Engineering (4 Years, Bachelor of Techno...    AI   OBC-NCL   \n",
       "3  Civil Engineering (4 Years, Bachelor of Techno...    AI   OBC-NCL   \n",
       "4  Civil Engineering (4 Years, Bachelor of Techno...    AI        SC   \n",
       "\n",
       "                                  Gender  Opening Rank  Closing Rank  Year  \\\n",
       "0                         Gender-Neutral          5057          6780  2018   \n",
       "1  Female-only (including Supernumerary)         10078         10789  2018   \n",
       "2                         Gender-Neutral          1649          2592  2018   \n",
       "3  Female-only (including Supernumerary)          4343          4522  2018   \n",
       "4                         Gender-Neutral          1054          1233  2018   \n",
       "\n",
       "   Round  \n",
       "0      1  \n",
       "1      1  \n",
       "2      1  \n",
       "3      1  \n",
       "4      1  "
      ]
     },
     "execution_count": 22,
     "metadata": {},
     "output_type": "execute_result"
    }
   ],
   "source": [
    "df_copy.head()"
   ]
  },
  {
   "cell_type": "code",
   "execution_count": 23,
   "id": "43c53fb9-96dd-4782-af61-e9b61d2e622b",
   "metadata": {},
   "outputs": [],
   "source": [
    "# X=df_copy.iloc[:,2:]\n",
    "# y=df_copy.iloc[:,:2]\n",
    "# X"
   ]
  },
  {
   "cell_type": "code",
   "execution_count": 24,
   "id": "cfc91bad-85b9-46d2-8612-ce125deda6d3",
   "metadata": {},
   "outputs": [],
   "source": [
    "from sklearn.model_selection import train_test_split\n",
    "train,test=train_test_split(df_copy,test_size=0.3,random_state=42)"
   ]
  },
  {
   "cell_type": "code",
   "execution_count": 25,
   "id": "a80d2eb3-7987-4a03-b6ae-344d18dc2a68",
   "metadata": {},
   "outputs": [
    {
     "data": {
      "text/html": [
       "<div>\n",
       "<style scoped>\n",
       "    .dataframe tbody tr th:only-of-type {\n",
       "        vertical-align: middle;\n",
       "    }\n",
       "\n",
       "    .dataframe tbody tr th {\n",
       "        vertical-align: top;\n",
       "    }\n",
       "\n",
       "    .dataframe thead th {\n",
       "        text-align: right;\n",
       "    }\n",
       "</style>\n",
       "<table border=\"1\" class=\"dataframe\">\n",
       "  <thead>\n",
       "    <tr style=\"text-align: right;\">\n",
       "      <th></th>\n",
       "      <th>Institute</th>\n",
       "      <th>Academic Program Name</th>\n",
       "      <th>Quota</th>\n",
       "      <th>Seat Type</th>\n",
       "      <th>Gender</th>\n",
       "      <th>Opening Rank</th>\n",
       "      <th>Closing Rank</th>\n",
       "      <th>Year</th>\n",
       "      <th>Round</th>\n",
       "    </tr>\n",
       "  </thead>\n",
       "  <tbody>\n",
       "    <tr>\n",
       "      <th>31082</th>\n",
       "      <td>85</td>\n",
       "      <td>103</td>\n",
       "      <td>OS</td>\n",
       "      <td>OBC-NCL (PwD)</td>\n",
       "      <td>Gender-Neutral</td>\n",
       "      <td>192</td>\n",
       "      <td>192</td>\n",
       "      <td>2018</td>\n",
       "      <td>5</td>\n",
       "    </tr>\n",
       "    <tr>\n",
       "      <th>114570</th>\n",
       "      <td>38</td>\n",
       "      <td>52</td>\n",
       "      <td>AI</td>\n",
       "      <td>EWS</td>\n",
       "      <td>Female-only (including Supernumerary)</td>\n",
       "      <td>2605</td>\n",
       "      <td>2894</td>\n",
       "      <td>2020</td>\n",
       "      <td>2</td>\n",
       "    </tr>\n",
       "    <tr>\n",
       "      <th>151264</th>\n",
       "      <td>56</td>\n",
       "      <td>173</td>\n",
       "      <td>AI</td>\n",
       "      <td>ST</td>\n",
       "      <td>Gender-Neutral</td>\n",
       "      <td>955</td>\n",
       "      <td>123</td>\n",
       "      <td>2020</td>\n",
       "      <td>6</td>\n",
       "    </tr>\n",
       "    <tr>\n",
       "      <th>191229</th>\n",
       "      <td>45</td>\n",
       "      <td>89</td>\n",
       "      <td>AI</td>\n",
       "      <td>OBC-NCL</td>\n",
       "      <td>Gender-Neutral</td>\n",
       "      <td>1858</td>\n",
       "      <td>2061</td>\n",
       "      <td>2022</td>\n",
       "      <td>1</td>\n",
       "    </tr>\n",
       "    <tr>\n",
       "      <th>97209</th>\n",
       "      <td>50</td>\n",
       "      <td>88</td>\n",
       "      <td>AI</td>\n",
       "      <td>SC</td>\n",
       "      <td>Female-only (including Supernumerary)</td>\n",
       "      <td>2816</td>\n",
       "      <td>2816</td>\n",
       "      <td>2019</td>\n",
       "      <td>7</td>\n",
       "    </tr>\n",
       "  </tbody>\n",
       "</table>\n",
       "</div>"
      ],
      "text/plain": [
       "        Institute  Academic Program Name Quota      Seat Type  \\\n",
       "31082          85                    103    OS  OBC-NCL (PwD)   \n",
       "114570         38                     52    AI            EWS   \n",
       "151264         56                    173    AI             ST   \n",
       "191229         45                     89    AI        OBC-NCL   \n",
       "97209          50                     88    AI             SC   \n",
       "\n",
       "                                       Gender  Opening Rank  Closing Rank  \\\n",
       "31082                          Gender-Neutral           192           192   \n",
       "114570  Female-only (including Supernumerary)          2605          2894   \n",
       "151264                         Gender-Neutral           955           123   \n",
       "191229                         Gender-Neutral          1858          2061   \n",
       "97209   Female-only (including Supernumerary)          2816          2816   \n",
       "\n",
       "        Year  Round  \n",
       "31082   2018      5  \n",
       "114570  2020      2  \n",
       "151264  2020      6  \n",
       "191229  2022      1  \n",
       "97209   2019      7  "
      ]
     },
     "execution_count": 25,
     "metadata": {},
     "output_type": "execute_result"
    }
   ],
   "source": [
    "#Here we are fitting the enocoder on the entire dataset but transforming them separately.the main reason for doing this is \n",
    "# to handle all categories consistently,more focus is given to this rather than data leakage.\n",
    "from sklearn.preprocessing import LabelEncoder\n",
    "lencoder=LabelEncoder()\n",
    "for col in ['Institute','Academic Program Name']:\n",
    "    lencoder.fit(df_copy[col])\n",
    "    train[col]=lencoder.transform(train[col])\n",
    "    test[col]=lencoder.transform(test[col])\n",
    "    \n",
    "    \n",
    "train.head()    "
   ]
  },
  {
   "cell_type": "code",
   "execution_count": 26,
   "id": "37364113-d953-4018-8730-4e671ecb6435",
   "metadata": {
    "scrolled": true
   },
   "outputs": [
    {
     "data": {
      "text/html": [
       "<div>\n",
       "<style scoped>\n",
       "    .dataframe tbody tr th:only-of-type {\n",
       "        vertical-align: middle;\n",
       "    }\n",
       "\n",
       "    .dataframe tbody tr th {\n",
       "        vertical-align: top;\n",
       "    }\n",
       "\n",
       "    .dataframe thead th {\n",
       "        text-align: right;\n",
       "    }\n",
       "</style>\n",
       "<table border=\"1\" class=\"dataframe\">\n",
       "  <thead>\n",
       "    <tr style=\"text-align: right;\">\n",
       "      <th></th>\n",
       "      <th>Institute</th>\n",
       "      <th>Academic Program Name</th>\n",
       "      <th>Opening Rank</th>\n",
       "      <th>Closing Rank</th>\n",
       "      <th>Year</th>\n",
       "      <th>Round</th>\n",
       "    </tr>\n",
       "  </thead>\n",
       "  <tbody>\n",
       "    <tr>\n",
       "      <th>count</th>\n",
       "      <td>173954.000000</td>\n",
       "      <td>173954.000000</td>\n",
       "      <td>1.739540e+05</td>\n",
       "      <td>1.739540e+05</td>\n",
       "      <td>173954.000000</td>\n",
       "      <td>173954.000000</td>\n",
       "    </tr>\n",
       "    <tr>\n",
       "      <th>mean</th>\n",
       "      <td>67.546966</td>\n",
       "      <td>101.830306</td>\n",
       "      <td>9.875479e+03</td>\n",
       "      <td>1.279121e+04</td>\n",
       "      <td>2020.005392</td>\n",
       "      <td>3.714534</td>\n",
       "    </tr>\n",
       "    <tr>\n",
       "      <th>std</th>\n",
       "      <td>29.728429</td>\n",
       "      <td>56.419231</td>\n",
       "      <td>2.952176e+04</td>\n",
       "      <td>4.070530e+04</td>\n",
       "      <td>1.450893</td>\n",
       "      <td>1.894091</td>\n",
       "    </tr>\n",
       "    <tr>\n",
       "      <th>min</th>\n",
       "      <td>0.000000</td>\n",
       "      <td>0.000000</td>\n",
       "      <td>1.000000e+00</td>\n",
       "      <td>1.000000e+00</td>\n",
       "      <td>2018.000000</td>\n",
       "      <td>1.000000</td>\n",
       "    </tr>\n",
       "    <tr>\n",
       "      <th>25%</th>\n",
       "      <td>46.000000</td>\n",
       "      <td>52.000000</td>\n",
       "      <td>9.780000e+02</td>\n",
       "      <td>1.215000e+03</td>\n",
       "      <td>2019.000000</td>\n",
       "      <td>2.000000</td>\n",
       "    </tr>\n",
       "    <tr>\n",
       "      <th>50%</th>\n",
       "      <td>72.000000</td>\n",
       "      <td>88.000000</td>\n",
       "      <td>3.261000e+03</td>\n",
       "      <td>3.997000e+03</td>\n",
       "      <td>2020.000000</td>\n",
       "      <td>4.000000</td>\n",
       "    </tr>\n",
       "    <tr>\n",
       "      <th>75%</th>\n",
       "      <td>92.000000</td>\n",
       "      <td>154.000000</td>\n",
       "      <td>8.940000e+03</td>\n",
       "      <td>1.090900e+04</td>\n",
       "      <td>2021.000000</td>\n",
       "      <td>5.000000</td>\n",
       "    </tr>\n",
       "    <tr>\n",
       "      <th>max</th>\n",
       "      <td>118.000000</td>\n",
       "      <td>221.000000</td>\n",
       "      <td>1.082601e+06</td>\n",
       "      <td>1.144790e+06</td>\n",
       "      <td>2022.000000</td>\n",
       "      <td>7.000000</td>\n",
       "    </tr>\n",
       "  </tbody>\n",
       "</table>\n",
       "</div>"
      ],
      "text/plain": [
       "           Institute  Academic Program Name  Opening Rank  Closing Rank  \\\n",
       "count  173954.000000          173954.000000  1.739540e+05  1.739540e+05   \n",
       "mean       67.546966             101.830306  9.875479e+03  1.279121e+04   \n",
       "std        29.728429              56.419231  2.952176e+04  4.070530e+04   \n",
       "min         0.000000               0.000000  1.000000e+00  1.000000e+00   \n",
       "25%        46.000000              52.000000  9.780000e+02  1.215000e+03   \n",
       "50%        72.000000              88.000000  3.261000e+03  3.997000e+03   \n",
       "75%        92.000000             154.000000  8.940000e+03  1.090900e+04   \n",
       "max       118.000000             221.000000  1.082601e+06  1.144790e+06   \n",
       "\n",
       "                Year          Round  \n",
       "count  173954.000000  173954.000000  \n",
       "mean     2020.005392       3.714534  \n",
       "std         1.450893       1.894091  \n",
       "min      2018.000000       1.000000  \n",
       "25%      2019.000000       2.000000  \n",
       "50%      2020.000000       4.000000  \n",
       "75%      2021.000000       5.000000  \n",
       "max      2022.000000       7.000000  "
      ]
     },
     "execution_count": 26,
     "metadata": {},
     "output_type": "execute_result"
    }
   ],
   "source": [
    "train.describe()"
   ]
  },
  {
   "cell_type": "code",
   "execution_count": 27,
   "id": "30435522-bc35-4801-89ff-bfc18b8ba08d",
   "metadata": {},
   "outputs": [],
   "source": [
    "x_train = train.drop([\"Academic Program Name\", \"Institute\"], axis=1)\n",
    "x_test = test.drop([\"Academic Program Name\", \"Institute\"], axis=1)"
   ]
  },
  {
   "cell_type": "code",
   "execution_count": 28,
   "id": "ab9a457b-82c4-4ee5-bd04-745df2b73896",
   "metadata": {},
   "outputs": [],
   "source": [
    "# total.dtypes"
   ]
  },
  {
   "cell_type": "code",
   "execution_count": 29,
   "id": "6145e509-68cc-4e2a-98d3-72f52a413c89",
   "metadata": {},
   "outputs": [
    {
     "data": {
      "text/html": [
       "<div>\n",
       "<style scoped>\n",
       "    .dataframe tbody tr th:only-of-type {\n",
       "        vertical-align: middle;\n",
       "    }\n",
       "\n",
       "    .dataframe tbody tr th {\n",
       "        vertical-align: top;\n",
       "    }\n",
       "\n",
       "    .dataframe thead th {\n",
       "        text-align: right;\n",
       "    }\n",
       "</style>\n",
       "<table border=\"1\" class=\"dataframe\">\n",
       "  <thead>\n",
       "    <tr style=\"text-align: right;\">\n",
       "      <th></th>\n",
       "      <th>Institute</th>\n",
       "      <th>Academic Program Name</th>\n",
       "      <th>Opening Rank</th>\n",
       "      <th>Closing Rank</th>\n",
       "      <th>Year</th>\n",
       "      <th>Round</th>\n",
       "    </tr>\n",
       "  </thead>\n",
       "  <tbody>\n",
       "    <tr>\n",
       "      <th>Institute</th>\n",
       "      <td>1.000000</td>\n",
       "      <td>-0.004537</td>\n",
       "      <td>0.085328</td>\n",
       "      <td>0.085255</td>\n",
       "      <td>-0.030408</td>\n",
       "      <td>-0.003044</td>\n",
       "    </tr>\n",
       "    <tr>\n",
       "      <th>Academic Program Name</th>\n",
       "      <td>-0.004537</td>\n",
       "      <td>1.000000</td>\n",
       "      <td>0.029281</td>\n",
       "      <td>0.022552</td>\n",
       "      <td>0.002970</td>\n",
       "      <td>-0.000947</td>\n",
       "    </tr>\n",
       "    <tr>\n",
       "      <th>Opening Rank</th>\n",
       "      <td>0.085328</td>\n",
       "      <td>0.029281</td>\n",
       "      <td>1.000000</td>\n",
       "      <td>0.917538</td>\n",
       "      <td>0.008188</td>\n",
       "      <td>0.018114</td>\n",
       "    </tr>\n",
       "    <tr>\n",
       "      <th>Closing Rank</th>\n",
       "      <td>0.085255</td>\n",
       "      <td>0.022552</td>\n",
       "      <td>0.917538</td>\n",
       "      <td>1.000000</td>\n",
       "      <td>-0.002955</td>\n",
       "      <td>0.020236</td>\n",
       "    </tr>\n",
       "    <tr>\n",
       "      <th>Year</th>\n",
       "      <td>-0.030408</td>\n",
       "      <td>0.002970</td>\n",
       "      <td>0.008188</td>\n",
       "      <td>-0.002955</td>\n",
       "      <td>1.000000</td>\n",
       "      <td>-0.073123</td>\n",
       "    </tr>\n",
       "    <tr>\n",
       "      <th>Round</th>\n",
       "      <td>-0.003044</td>\n",
       "      <td>-0.000947</td>\n",
       "      <td>0.018114</td>\n",
       "      <td>0.020236</td>\n",
       "      <td>-0.073123</td>\n",
       "      <td>1.000000</td>\n",
       "    </tr>\n",
       "  </tbody>\n",
       "</table>\n",
       "</div>"
      ],
      "text/plain": [
       "                       Institute  Academic Program Name  Opening Rank  \\\n",
       "Institute               1.000000              -0.004537      0.085328   \n",
       "Academic Program Name  -0.004537               1.000000      0.029281   \n",
       "Opening Rank            0.085328               0.029281      1.000000   \n",
       "Closing Rank            0.085255               0.022552      0.917538   \n",
       "Year                   -0.030408               0.002970      0.008188   \n",
       "Round                  -0.003044              -0.000947      0.018114   \n",
       "\n",
       "                       Closing Rank      Year     Round  \n",
       "Institute                  0.085255 -0.030408 -0.003044  \n",
       "Academic Program Name      0.022552  0.002970 -0.000947  \n",
       "Opening Rank               0.917538  0.008188  0.018114  \n",
       "Closing Rank               1.000000 -0.002955  0.020236  \n",
       "Year                      -0.002955  1.000000 -0.073123  \n",
       "Round                      0.020236 -0.073123  1.000000  "
      ]
     },
     "execution_count": 29,
     "metadata": {},
     "output_type": "execute_result"
    }
   ],
   "source": [
    "total = pd.concat([train,test])\n",
    "total.corr(numeric_only=True)"
   ]
  },
  {
   "cell_type": "code",
   "execution_count": 30,
   "id": "2c765c0d-dc06-4cb6-af94-70c9570e0b19",
   "metadata": {},
   "outputs": [],
   "source": [
    "import seaborn as sns\n",
    "import matplotlib.pyplot as plt\n",
    "%matplotlib inline"
   ]
  },
  {
   "cell_type": "code",
   "execution_count": 31,
   "id": "2db44255-45a2-4fdc-b747-b4313073fc3b",
   "metadata": {},
   "outputs": [],
   "source": [
    "tot_corr=total.corr(numeric_only=True)"
   ]
  },
  {
   "cell_type": "code",
   "execution_count": 32,
   "id": "8866403f-2fa6-4252-9b89-a7be2699eb8c",
   "metadata": {},
   "outputs": [
    {
     "data": {
      "text/plain": [
       "<Axes: >"
      ]
     },
     "execution_count": 32,
     "metadata": {},
     "output_type": "execute_result"
    },
    {
     "data": {
      "image/png": "[encoded data removed]",
      "text/plain": [
       "<Figure size 640x480 with 2 Axes>"
      ]
     },
     "metadata": {},
     "output_type": "display_data"
    }
   ],
   "source": [
    "sns.heatmap(tot_corr,annot=True,cmap='coolwarm')"
   ]
  },
  {
   "cell_type": "code",
   "execution_count": 33,
   "id": "d107e85d-ba46-4db7-873e-c911fb92422b",
   "metadata": {},
   "outputs": [
    {
     "data": {
      "text/plain": [
       "array([[<Axes: title={'center': 'Institute'}>,\n",
       "        <Axes: title={'center': 'Academic Program Name'}>],\n",
       "       [<Axes: title={'center': 'Opening Rank'}>,\n",
       "        <Axes: title={'center': 'Closing Rank'}>],\n",
       "       [<Axes: title={'center': 'Year'}>,\n",
       "        <Axes: title={'center': 'Round'}>]], dtype=object)"
      ]
     },
     "execution_count": 33,
     "metadata": {},
     "output_type": "execute_result"
    },
    {
     "data": {
      "image/png": "[encoded data removed]",
      "text/plain": [
       "<Figure size 600x800 with 6 Axes>"
      ]
     },
     "metadata": {},
     "output_type": "display_data"
    }
   ],
   "source": [
    "total.hist(figsize=(6,8))"
   ]
  },
  {
   "cell_type": "code",
   "execution_count": 34,
   "id": "94ae177d-ec31-42a8-b254-42eff6af74b3",
   "metadata": {},
   "outputs": [
    {
     "data": {
      "text/html": [
       "<div>\n",
       "<style scoped>\n",
       "    .dataframe tbody tr th:only-of-type {\n",
       "        vertical-align: middle;\n",
       "    }\n",
       "\n",
       "    .dataframe tbody tr th {\n",
       "        vertical-align: top;\n",
       "    }\n",
       "\n",
       "    .dataframe thead th {\n",
       "        text-align: right;\n",
       "    }\n",
       "</style>\n",
       "<table border=\"1\" class=\"dataframe\">\n",
       "  <thead>\n",
       "    <tr style=\"text-align: right;\">\n",
       "      <th></th>\n",
       "      <th>Quota</th>\n",
       "      <th>Seat Type</th>\n",
       "      <th>Gender</th>\n",
       "      <th>Opening Rank</th>\n",
       "      <th>Closing Rank</th>\n",
       "      <th>Year</th>\n",
       "      <th>Round</th>\n",
       "    </tr>\n",
       "  </thead>\n",
       "  <tbody>\n",
       "    <tr>\n",
       "      <th>31082</th>\n",
       "      <td>OS</td>\n",
       "      <td>OBC-NCL (PwD)</td>\n",
       "      <td>Gender-Neutral</td>\n",
       "      <td>192</td>\n",
       "      <td>192</td>\n",
       "      <td>2018</td>\n",
       "      <td>5</td>\n",
       "    </tr>\n",
       "    <tr>\n",
       "      <th>114570</th>\n",
       "      <td>AI</td>\n",
       "      <td>EWS</td>\n",
       "      <td>Female-only (including Supernumerary)</td>\n",
       "      <td>2605</td>\n",
       "      <td>2894</td>\n",
       "      <td>2020</td>\n",
       "      <td>2</td>\n",
       "    </tr>\n",
       "    <tr>\n",
       "      <th>151264</th>\n",
       "      <td>AI</td>\n",
       "      <td>ST</td>\n",
       "      <td>Gender-Neutral</td>\n",
       "      <td>955</td>\n",
       "      <td>123</td>\n",
       "      <td>2020</td>\n",
       "      <td>6</td>\n",
       "    </tr>\n",
       "    <tr>\n",
       "      <th>191229</th>\n",
       "      <td>AI</td>\n",
       "      <td>OBC-NCL</td>\n",
       "      <td>Gender-Neutral</td>\n",
       "      <td>1858</td>\n",
       "      <td>2061</td>\n",
       "      <td>2022</td>\n",
       "      <td>1</td>\n",
       "    </tr>\n",
       "    <tr>\n",
       "      <th>97209</th>\n",
       "      <td>AI</td>\n",
       "      <td>SC</td>\n",
       "      <td>Female-only (including Supernumerary)</td>\n",
       "      <td>2816</td>\n",
       "      <td>2816</td>\n",
       "      <td>2019</td>\n",
       "      <td>7</td>\n",
       "    </tr>\n",
       "  </tbody>\n",
       "</table>\n",
       "</div>"
      ],
      "text/plain": [
       "       Quota      Seat Type                                 Gender  \\\n",
       "31082     OS  OBC-NCL (PwD)                         Gender-Neutral   \n",
       "114570    AI            EWS  Female-only (including Supernumerary)   \n",
       "151264    AI             ST                         Gender-Neutral   \n",
       "191229    AI        OBC-NCL                         Gender-Neutral   \n",
       "97209     AI             SC  Female-only (including Supernumerary)   \n",
       "\n",
       "        Opening Rank  Closing Rank  Year  Round  \n",
       "31082            192           192  2018      5  \n",
       "114570          2605          2894  2020      2  \n",
       "151264           955           123  2020      6  \n",
       "191229          1858          2061  2022      1  \n",
       "97209           2816          2816  2019      7  "
      ]
     },
     "execution_count": 34,
     "metadata": {},
     "output_type": "execute_result"
    }
   ],
   "source": [
    "from sklearn.preprocessing import StandardScaler\n",
    "cols=['Opening Rank', 'Closing Rank', 'Year','Round']\n",
    "scaler=StandardScaler()\n",
    "scaler.fit(x_train[cols])\n",
    "train[cols]=scaler.transform(x_train[cols])\n",
    "test[cols]=scaler.transform(x_test[cols])\n",
    "x_train.head()"
   ]
  },
  {
   "cell_type": "code",
   "execution_count": 35,
   "id": "96db0449-7c03-409a-9290-c6140768c330",
   "metadata": {},
   "outputs": [
    {
     "data": {
      "text/plain": [
       "<Axes: >"
      ]
     },
     "execution_count": 35,
     "metadata": {},
     "output_type": "execute_result"
    },
    {
     "data": {
      "image/png": "[encoded data removed]",
      "text/plain": [
       "<Figure size 640x480 with 2 Axes>"
      ]
     },
     "metadata": {},
     "output_type": "display_data"
    }
   ],
   "source": [
    "tot=pd.concat([train,test])\n",
    "corr=tot.corr(numeric_only=True)\n",
    "sns.heatmap(corr,annot=True,cmap='coolwarm')"
   ]
  },
  {
   "cell_type": "code",
   "execution_count": 36,
   "id": "fb692544-4b9d-4f29-ab08-79259a6e55fb",
   "metadata": {},
   "outputs": [
    {
     "data": {
      "text/html": [
       "<div>\n",
       "<style scoped>\n",
       "    .dataframe tbody tr th:only-of-type {\n",
       "        vertical-align: middle;\n",
       "    }\n",
       "\n",
       "    .dataframe tbody tr th {\n",
       "        vertical-align: top;\n",
       "    }\n",
       "\n",
       "    .dataframe thead th {\n",
       "        text-align: right;\n",
       "    }\n",
       "</style>\n",
       "<table border=\"1\" class=\"dataframe\">\n",
       "  <thead>\n",
       "    <tr style=\"text-align: right;\">\n",
       "      <th></th>\n",
       "      <th>Quota</th>\n",
       "      <th>Seat Type</th>\n",
       "      <th>Gender</th>\n",
       "      <th>Opening Rank</th>\n",
       "      <th>Closing Rank</th>\n",
       "      <th>Year</th>\n",
       "      <th>Round</th>\n",
       "    </tr>\n",
       "  </thead>\n",
       "  <tbody>\n",
       "    <tr>\n",
       "      <th>31082</th>\n",
       "      <td>OS</td>\n",
       "      <td>OBC-NCL (PwD)</td>\n",
       "      <td>Gender-Neutral</td>\n",
       "      <td>192</td>\n",
       "      <td>192</td>\n",
       "      <td>2018</td>\n",
       "      <td>5</td>\n",
       "    </tr>\n",
       "    <tr>\n",
       "      <th>114570</th>\n",
       "      <td>AI</td>\n",
       "      <td>EWS</td>\n",
       "      <td>Female-only (including Supernumerary)</td>\n",
       "      <td>2605</td>\n",
       "      <td>2894</td>\n",
       "      <td>2020</td>\n",
       "      <td>2</td>\n",
       "    </tr>\n",
       "  </tbody>\n",
       "</table>\n",
       "</div>"
      ],
      "text/plain": [
       "       Quota      Seat Type                                 Gender  \\\n",
       "31082     OS  OBC-NCL (PwD)                         Gender-Neutral   \n",
       "114570    AI            EWS  Female-only (including Supernumerary)   \n",
       "\n",
       "        Opening Rank  Closing Rank  Year  Round  \n",
       "31082            192           192  2018      5  \n",
       "114570          2605          2894  2020      2  "
      ]
     },
     "execution_count": 36,
     "metadata": {},
     "output_type": "execute_result"
    }
   ],
   "source": [
    "x_train.head(2)"
   ]
  },
  {
   "cell_type": "code",
   "execution_count": 37,
   "id": "06192981-a7e7-4ea2-8798-8d4df160773c",
   "metadata": {},
   "outputs": [
    {
     "name": "stdout",
     "output_type": "stream",
     "text": [
      "[[0.0000e+00 0.0000e+00 0.0000e+00 ... 3.4000e+01 2.0190e+03 7.0000e+00]\n",
      " [0.0000e+00 0.0000e+00 1.0000e+00 ... 2.5508e+04 2.0210e+03 1.0000e+00]\n",
      " [0.0000e+00 0.0000e+00 0.0000e+00 ... 5.8930e+03 2.0190e+03 4.0000e+00]\n",
      " ...\n",
      " [0.0000e+00 0.0000e+00 0.0000e+00 ... 2.8970e+03 2.0210e+03 6.0000e+00]\n",
      " [0.0000e+00 0.0000e+00 0.0000e+00 ... 1.7140e+03 2.0200e+03 4.0000e+00]\n",
      " [0.0000e+00 0.0000e+00 0.0000e+00 ... 1.7979e+04 2.0200e+03 6.0000e+00]]\n"
     ]
    }
   ],
   "source": [
    "#Here we are treating the nominal data using onehotencoder\n",
    "\n",
    "from sklearn.compose import ColumnTransformer\n",
    "from sklearn.preprocessing import OneHotEncoder\n",
    "OneHot=OneHotEncoder(sparse_output=False,drop='first')\n",
    "transformer=ColumnTransformer(transformers=[('trans1',OneHot,['Quota','Seat Type','Gender'])],remainder='passthrough')\n",
    "x_train=transformer.fit_transform(x_train)\n",
    "x_test=transformer.transform(x_test)\n",
    "print(x_test)"
   ]
  },
  {
   "cell_type": "markdown",
   "id": "b6ba8a95-0519-4b9d-a60d-47dec2985726",
   "metadata": {},
   "source": [
    "# Modeling\n"
   ]
  },
  {
   "cell_type": "code",
   "execution_count": 39,
   "id": "e431055c-6bf0-47d1-8722-af37d1e53f91",
   "metadata": {},
   "outputs": [],
   "source": [
    "from sklearn.linear_model import LinearRegression\n",
    "from sklearn.model_selection import train_test_split\n",
    "from sklearn.metrics import mean_squared_error, r2_score\n"
   ]
  },
  {
   "cell_type": "code",
   "execution_count": 40,
   "id": "e901599a-9641-406a-807d-02f3652d653b",
   "metadata": {},
   "outputs": [
    {
     "ename": "NameError",
     "evalue": "name 'y_train' is not defined",
     "output_type": "error",
     "traceback": [
      "\u001b[1;31m---------------------------------------------------------------------------\u001b[0m",
      "\u001b[1;31mNameError\u001b[0m                                 Traceback (most recent call last)",
      "Cell \u001b[1;32mIn[40], line 2\u001b[0m\n\u001b[0;32m      1\u001b[0m regressor\u001b[38;5;241m=\u001b[39mLinearRegression()\n\u001b[1;32m----> 2\u001b[0m regressor\u001b[38;5;241m.\u001b[39mfit(x_train,y_train)\n\u001b[0;32m      3\u001b[0m y_pred\u001b[38;5;241m=\u001b[39m regressor\u001b[38;5;241m.\u001b[39mpredict(x_test)\n",
      "\u001b[1;31mNameError\u001b[0m: name 'y_train' is not defined"
     ]
    }
   ],
   "source": [
    "regressor=LinearRegression()\n",
    "regressor.fit(x_train,y_train)\n",
    "y_pred= regressor.predict(x_test)\n"
   ]
  }
 ],
 "metadata": {
  "kernelspec": {
   "display_name": "Python 3 (ipykernel)",
   "language": "python",
   "name": "python3"
  },
  "language_info": {
   "codemirror_mode": {
    "name": "ipython",
    "version": 3
   },
   "file_extension": ".py",
   "mimetype": "text/x-python",
   "name": "python",
   "nbconvert_exporter": "python",
   "pygments_lexer": "ipython3",
   "version": "3.12.4"
  }
 },
 "nbformat": 4,
 "nbformat_minor": 5
}
